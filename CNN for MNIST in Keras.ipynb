{
 "cells": [
  {
   "cell_type": "markdown",
   "metadata": {},
   "source": [
    "CNNs or Convolutional Neural Networks are a special type of neural network which is particularly adept for computer vision problems. CNNs get their name from convolutions in mathematics which represent a relationship between two functions. CNNs are also inspired by the visual cortex of the brain.\n",
    "https://en.wikipedia.org/wiki/Convolutional_neural_network#Building_blocks\n",
    "\n",
    "MNIST is a well-known dataset for handwritten digit recognition. It is a popular benchmark for beginning machine learning. \n",
    "Data readily available through Kaggle:\n",
    "https://www.kaggle.com/c/digit-recognizer/data\n",
    "Additional benchmarks provided by Yann LeCun and friends:\n",
    "http://yann.lecun.com/exdb/mnist/\n",
    "\n",
    "Keras is an emerging framework that abstracts Tensorflow and Theano. While these two frameworks abstract the algorithms and hardware for deep learning, Keras abstracts their \"language\" into one that is much closer to a natural language of deep learning.\n",
    "http://keras.io\n",
    "\n",
    "Today we will be going through our friend's example over at machinelearningmastery.com\n",
    "http://machinelearningmastery.com/handwritten-digit-recognition-using-convolutional-neural-networks-python-keras/\n",
    "\n"
   ]
  },
  {
   "cell_type": "code",
   "execution_count": null,
   "metadata": {
    "collapsed": true
   },
   "outputs": [],
   "source": []
  }
 ],
 "metadata": {
  "anaconda-cloud": {},
  "kernelspec": {
   "display_name": "Python [Root]",
   "language": "python",
   "name": "Python [Root]"
  },
  "language_info": {
   "codemirror_mode": {
    "name": "ipython",
    "version": 3
   },
   "file_extension": ".py",
   "mimetype": "text/x-python",
   "name": "python",
   "nbconvert_exporter": "python",
   "pygments_lexer": "ipython3",
   "version": "3.5.2"
  }
 },
 "nbformat": 4,
 "nbformat_minor": 0
}
