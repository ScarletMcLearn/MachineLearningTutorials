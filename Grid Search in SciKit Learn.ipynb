{
 "cells": [
  {
   "cell_type": "markdown",
   "metadata": {},
   "source": [
    "# Grid Search tuning of deep learning models\n",
    "\n",
    "## Background\n",
    "In a previous notebook on [Tuning CNN for Sentiment Analysis](https://github.com/Shumakriss/MachineLearningTutorials/blob/master/Keras%20Sentiment%20Analysis%20Part%202.ipynb) I tried my hand at manual hyperparameter tuning. After attempting to tune [hyperparameters](https://www.quora.com/What-are-hyperparameters-in-machine-learning) manually and seeking some outside suggestions, I found a few [automated techniques](http://machinelearningmastery.com/how-to-tune-algorithm-parameters-with-scikit-learn/) and that manual tuning is really [not the best way to spend your time](http://machinelearningmastery.com/machine-learning-model-running/). While I am proud of myself for considering ensembling, it seems that we might want to [try some other techniques](http://machinelearningmastery.com/how-to-improve-machine-learning-results/) first. In this model, we will follow the [machinelearningmastery.com](http://machinelearningmastery.com) example for [tuning deep learning models with Grid Search in Keras](http://machinelearningmastery.com/grid-search-hyperparameters-deep-learning-models-python-keras/). \n",
    "\n",
    "## Credit\n",
    "If it was not obvious from the introduction, I have had a lot of help from [machinelearningmastery.com](http://machinelearningmastery.com) and I highly suggest following along their tutorials. My contributions are the iPython Notebook format which I hope you find useful and my trials and tribulations which I hope you might learn from (or avoid yourself).\n",
    "\n",
    "## Approach\n",
    "In this example, we use Sci-Kit Learn (a.k.a. sklearn) in Python to tune the hyperparameters of a deep learning model with Grid Search.\n",
    "\n",
    "## Example 1:  Tuning Batch Size and Number of Epochs\n",
    "To begin, we build a very simple neural network with the Keras Sequential() object and initialize the Pima Indians Diabetes dataset."
   ]
  },
  {
   "cell_type": "code",
   "execution_count": 6,
   "metadata": {
    "collapsed": false
   },
   "outputs": [],
   "source": [
    "# Use scikit-learn to grid search the batch size and epochs\n",
    "import numpy\n",
    "from sklearn.model_selection import GridSearchCV\n",
    "from keras.models import Sequential\n",
    "from keras.layers import Dense\n",
    "from keras.wrappers.scikit_learn import KerasClassifier\n",
    "\n",
    "# Function to create model, required for KerasClassifier\n",
    "def create_model():\n",
    "    # create model\n",
    "    model = Sequential()\n",
    "    model.add(Dense(12, input_dim=8, activation='relu'))\n",
    "    model.add(Dense(1, activation='sigmoid'))\n",
    "\n",
    "    # Compile model\n",
    "    model.compile(loss='binary_crossentropy', optimizer='adam', metrics=['accuracy'])\n",
    "    \n",
    "    return model\n",
    "\n",
    "# fix random seed for reproducibility\n",
    "seed = 7\n",
    "numpy.random.seed(seed)\n",
    "\n",
    "# load dataset\n",
    "dataset = numpy.loadtxt(\"pima-indians-diabetes.csv\", delimiter=\",\")\n",
    "\n",
    "# split into input (X) and output (Y) variables\n",
    "X = dataset[:,0:8]\n",
    "Y = dataset[:,8]"
   ]
  },
  {
   "cell_type": "markdown",
   "metadata": {},
   "source": [
    "Next, we prepare our model for use with sklearn by wrapping it with a KerasClassifier() object."
   ]
  },
  {
   "cell_type": "code",
   "execution_count": 7,
   "metadata": {
    "collapsed": true
   },
   "outputs": [],
   "source": [
    "# create model\n",
    "model = KerasClassifier(build_fn=create_model, verbose=0)"
   ]
  },
  {
   "cell_type": "markdown",
   "metadata": {},
   "source": [
    "Grid search works by providing a list of parameters and possible values. Now we not need to write nested loops for each condition and we get a nice report afterward."
   ]
  },
  {
   "cell_type": "code",
   "execution_count": 8,
   "metadata": {
    "collapsed": true
   },
   "outputs": [],
   "source": [
    "# define the grid search parameters\n",
    "batch_size = [10, 20, 40, 60, 80, 100]\n",
    "epochs = [10, 50, 100]\n",
    "param_grid = dict(batch_size=batch_size, nb_epoch=epochs)\n",
    "grid = GridSearchCV(estimator=model, param_grid=param_grid, n_jobs=-1)\n",
    "grid_result = grid.fit(X, Y)"
   ]
  },
  {
   "cell_type": "code",
   "execution_count": 9,
   "metadata": {
    "collapsed": false
   },
   "outputs": [
    {
     "name": "stdout",
     "output_type": "stream",
     "text": [
      "Best: 0.690104 using {'nb_epoch': 100, 'batch_size': 40}\n",
      "0.348958 (0.024774) with: {'nb_epoch': 10, 'batch_size': 10}\n",
      "0.572917 (0.134575) with: {'nb_epoch': 50, 'batch_size': 10}\n",
      "0.662760 (0.033197) with: {'nb_epoch': 100, 'batch_size': 10}\n",
      "0.597656 (0.022326) with: {'nb_epoch': 10, 'batch_size': 20}\n",
      "0.567708 (0.161196) with: {'nb_epoch': 50, 'batch_size': 20}\n",
      "0.645833 (0.030978) with: {'nb_epoch': 100, 'batch_size': 20}\n",
      "0.566406 (0.008438) with: {'nb_epoch': 10, 'batch_size': 40}\n",
      "0.627604 (0.030647) with: {'nb_epoch': 50, 'batch_size': 40}\n",
      "0.690104 (0.012890) with: {'nb_epoch': 100, 'batch_size': 40}\n",
      "0.497396 (0.123210) with: {'nb_epoch': 10, 'batch_size': 60}\n",
      "0.546875 (0.142885) with: {'nb_epoch': 50, 'batch_size': 60}\n",
      "0.648438 (0.019401) with: {'nb_epoch': 100, 'batch_size': 60}\n",
      "0.627604 (0.019225) with: {'nb_epoch': 10, 'batch_size': 80}\n",
      "0.665365 (0.017566) with: {'nb_epoch': 50, 'batch_size': 80}\n",
      "0.647135 (0.014731) with: {'nb_epoch': 100, 'batch_size': 80}\n",
      "0.608073 (0.053115) with: {'nb_epoch': 10, 'batch_size': 100}\n",
      "0.579427 (0.027866) with: {'nb_epoch': 50, 'batch_size': 100}\n",
      "0.662760 (0.009744) with: {'nb_epoch': 100, 'batch_size': 100}\n"
     ]
    }
   ],
   "source": [
    "# summarize results\n",
    "print(\"Best: %f using %s\" % (grid_result.best_score_, grid_result.best_params_))\n",
    "means = grid_result.cv_results_['mean_test_score']\n",
    "stds = grid_result.cv_results_['std_test_score']\n",
    "params = grid_result.cv_results_['params']\n",
    "for mean, stdev, param in zip(means, stds, params):\n",
    "    print(\"%f (%f) with: %r\" % (mean, stdev, param))"
   ]
  },
  {
   "cell_type": "markdown",
   "metadata": {},
   "source": [
    "## Example 2: Tuning the Training Optimizer Algorithm\n",
    "In the second example, we change the optimizer algorithm which is something we usually have decided based on conceptual knowledge, not empirical results.\n",
    "\n",
    "> This is an odd example, because often you will choose one approach a priori and instead focus on tuning its parameters on your problem (e.g. see the next example)."
   ]
  },
  {
   "cell_type": "code",
   "execution_count": 14,
   "metadata": {
    "collapsed": true
   },
   "outputs": [],
   "source": [
    "# Use scikit-learn to grid search the batch size and epochs\n",
    "import numpy\n",
    "from sklearn.model_selection import GridSearchCV\n",
    "from keras.models import Sequential\n",
    "from keras.layers import Dense\n",
    "from keras.wrappers.scikit_learn import KerasClassifier\n",
    "\n",
    "# Function to create model, required for KerasClassifier\n",
    "def create_model(optimizer='adam'):\n",
    "    # create model\n",
    "    model = Sequential()\n",
    "    model.add(Dense(12, input_dim=8, activation='relu'))\n",
    "    model.add(Dense(1, activation='sigmoid'))\n",
    "    \n",
    "    # Compile model\n",
    "    model.compile(loss='binary_crossentropy', optimizer=optimizer, metrics=['accuracy'])\n",
    "    \n",
    "    return model\n",
    "\n",
    "# fix random seed for reproducibility\n",
    "seed = 7\n",
    "numpy.random.seed(seed)\n",
    "\n",
    "# load dataset\n",
    "dataset = numpy.loadtxt(\"pima-indians-diabetes.csv\", delimiter=\",\")\n",
    "\n",
    "# split into input (X) and output (Y) variables\n",
    "X = dataset[:,0:8]\n",
    "Y = dataset[:,8]\n",
    "\n",
    "# create model\n",
    "model = KerasClassifier(build_fn=create_model, nb_epoch=100, batch_size=10, verbose=0)"
   ]
  },
  {
   "cell_type": "code",
   "execution_count": 16,
   "metadata": {
    "collapsed": false
   },
   "outputs": [],
   "source": [
    "# define the grid search parameters\n",
    "optimizer = ['SGD', 'RMSprop', 'Adagrad', 'Adadelta', 'Adam', 'Adamax', 'Nadam']\n",
    "param_grid = dict(optimizer=optimizer)\n",
    "grid = GridSearchCV(estimator=model, param_grid=param_grid, n_jobs=-1)\n",
    "grid_result = grid.fit(X, Y)"
   ]
  },
  {
   "cell_type": "code",
   "execution_count": 17,
   "metadata": {
    "collapsed": false
   },
   "outputs": [
    {
     "name": "stdout",
     "output_type": "stream",
     "text": [
      "Best: 0.704427 using {'optimizer': 'Adam'}\n",
      "0.348958 (0.024774) with: {'optimizer': 'SGD'}\n",
      "0.348958 (0.024774) with: {'optimizer': 'RMSprop'}\n",
      "0.471354 (0.156586) with: {'optimizer': 'Adagrad'}\n",
      "0.669271 (0.029635) with: {'optimizer': 'Adadelta'}\n",
      "0.704427 (0.031466) with: {'optimizer': 'Adam'}\n",
      "0.682292 (0.016367) with: {'optimizer': 'Adamax'}\n",
      "0.703125 (0.003189) with: {'optimizer': 'Nadam'}\n"
     ]
    }
   ],
   "source": [
    "# summarize results\n",
    "print(\"Best: %f using %s\" % (grid_result.best_score_, grid_result.best_params_))\n",
    "means = grid_result.cv_results_['mean_test_score']\n",
    "stds = grid_result.cv_results_['std_test_score']\n",
    "params = grid_result.cv_results_['params']\n",
    "for mean, stdev, param in zip(means, stds, params):\n",
    "    print(\"%f (%f) with: %r\" % (mean, stdev, param))"
   ]
  },
  {
   "cell_type": "markdown",
   "metadata": {},
   "source": [
    "## Example 3: Tune Learning Rate and Momentum"
   ]
  },
  {
   "cell_type": "code",
   "execution_count": 20,
   "metadata": {
    "collapsed": true
   },
   "outputs": [],
   "source": [
    "# Use scikit-learn to grid search the learning rate and momentum\n",
    "import numpy\n",
    "from sklearn.model_selection import GridSearchCV\n",
    "from keras.models import Sequential\n",
    "from keras.layers import Dense\n",
    "from keras.wrappers.scikit_learn import KerasClassifier\n",
    "from keras.optimizers import SGD\n",
    "\n",
    "# Function to create model, required for KerasClassifier\n",
    "def create_model(learn_rate=0.01, momentum=0):\n",
    "    # create model\n",
    "    model = Sequential()\n",
    "    model.add(Dense(12, input_dim=8, activation='relu'))\n",
    "    model.add(Dense(1, activation='sigmoid'))\n",
    "    \n",
    "    # Compile model\n",
    "    optimizer = SGD(lr=learn_rate, momentum=momentum)\n",
    "    model.compile(loss='binary_crossentropy', optimizer=optimizer, metrics=['accuracy'])\n",
    "    \n",
    "    return model\n",
    "\n",
    "# fix random seed for reproducibility\n",
    "seed = 7\n",
    "numpy.random.seed(seed)\n",
    "\n",
    "# load dataset\n",
    "dataset = numpy.loadtxt(\"pima-indians-diabetes.csv\", delimiter=\",\")\n",
    "\n",
    "# split into input (X) and output (Y) variables\n",
    "X = dataset[:,0:8]\n",
    "Y = dataset[:,8]\n",
    "\n",
    "# create model\n",
    "model = KerasClassifier(build_fn=create_model, nb_epoch=100, batch_size=10, verbose=0)"
   ]
  },
  {
   "cell_type": "code",
   "execution_count": 21,
   "metadata": {
    "collapsed": false
   },
   "outputs": [
    {
     "name": "stdout",
     "output_type": "stream",
     "text": [
      "Best: 0.680990 using {'learn_rate': 0.01, 'momentum': 0.0}\n",
      "0.348958 (0.024774) with: {'learn_rate': 0.001, 'momentum': 0.0}\n",
      "0.348958 (0.024774) with: {'learn_rate': 0.001, 'momentum': 0.2}\n",
      "0.467448 (0.151098) with: {'learn_rate': 0.001, 'momentum': 0.4}\n",
      "0.665365 (0.010253) with: {'learn_rate': 0.001, 'momentum': 0.6}\n",
      "0.669271 (0.030647) with: {'learn_rate': 0.001, 'momentum': 0.8}\n",
      "0.666667 (0.035564) with: {'learn_rate': 0.001, 'momentum': 0.9}\n",
      "0.680990 (0.024360) with: {'learn_rate': 0.01, 'momentum': 0.0}\n",
      "0.677083 (0.026557) with: {'learn_rate': 0.01, 'momentum': 0.2}\n",
      "0.427083 (0.134575) with: {'learn_rate': 0.01, 'momentum': 0.4}\n",
      "0.427083 (0.134575) with: {'learn_rate': 0.01, 'momentum': 0.6}\n",
      "0.544271 (0.146518) with: {'learn_rate': 0.01, 'momentum': 0.8}\n",
      "0.651042 (0.024774) with: {'learn_rate': 0.01, 'momentum': 0.9}\n",
      "0.651042 (0.024774) with: {'learn_rate': 0.1, 'momentum': 0.0}\n",
      "0.651042 (0.024774) with: {'learn_rate': 0.1, 'momentum': 0.2}\n",
      "0.572917 (0.134575) with: {'learn_rate': 0.1, 'momentum': 0.4}\n",
      "0.572917 (0.134575) with: {'learn_rate': 0.1, 'momentum': 0.6}\n",
      "0.651042 (0.024774) with: {'learn_rate': 0.1, 'momentum': 0.8}\n",
      "0.651042 (0.024774) with: {'learn_rate': 0.1, 'momentum': 0.9}\n",
      "0.533854 (0.149269) with: {'learn_rate': 0.2, 'momentum': 0.0}\n",
      "0.427083 (0.134575) with: {'learn_rate': 0.2, 'momentum': 0.2}\n",
      "0.427083 (0.134575) with: {'learn_rate': 0.2, 'momentum': 0.4}\n",
      "0.651042 (0.024774) with: {'learn_rate': 0.2, 'momentum': 0.6}\n",
      "0.651042 (0.024774) with: {'learn_rate': 0.2, 'momentum': 0.8}\n",
      "0.651042 (0.024774) with: {'learn_rate': 0.2, 'momentum': 0.9}\n",
      "0.455729 (0.146518) with: {'learn_rate': 0.3, 'momentum': 0.0}\n",
      "0.455729 (0.146518) with: {'learn_rate': 0.3, 'momentum': 0.2}\n",
      "0.455729 (0.146518) with: {'learn_rate': 0.3, 'momentum': 0.4}\n",
      "0.348958 (0.024774) with: {'learn_rate': 0.3, 'momentum': 0.6}\n",
      "0.348958 (0.024774) with: {'learn_rate': 0.3, 'momentum': 0.8}\n",
      "0.348958 (0.024774) with: {'learn_rate': 0.3, 'momentum': 0.9}\n"
     ]
    }
   ],
   "source": [
    "# define the grid search parameters\n",
    "learn_rate = [0.001, 0.01, 0.1, 0.2, 0.3]\n",
    "momentum = [0.0, 0.2, 0.4, 0.6, 0.8, 0.9]\n",
    "param_grid = dict(learn_rate=learn_rate, momentum=momentum)\n",
    "grid = GridSearchCV(estimator=model, param_grid=param_grid, n_jobs=-1)\n",
    "grid_result = grid.fit(X, Y)\n",
    "\n",
    "# summarize results\n",
    "print(\"Best: %f using %s\" % (grid_result.best_score_, grid_result.best_params_))\n",
    "means = grid_result.cv_results_['mean_test_score']\n",
    "stds = grid_result.cv_results_['std_test_score']\n",
    "params = grid_result.cv_results_['params']\n",
    "for mean, stdev, param in zip(means, stds, params):\n",
    "    print(\"%f (%f) with: %r\" % (mean, stdev, param))"
   ]
  },
  {
   "cell_type": "markdown",
   "metadata": {},
   "source": [
    "## Example 4: Tuning Network Weight Initialization\n",
    "\n",
    "This example provided useful insight for me. There are actually many strategies to initialize the weights of a neural network and no one strategy works best in all scenarios."
   ]
  },
  {
   "cell_type": "code",
   "execution_count": 22,
   "metadata": {
    "collapsed": true
   },
   "outputs": [],
   "source": [
    "# Use scikit-learn to grid search the weight initialization\n",
    "import numpy\n",
    "from sklearn.model_selection import GridSearchCV\n",
    "from keras.models import Sequential\n",
    "from keras.layers import Dense\n",
    "from keras.wrappers.scikit_learn import KerasClassifier\n",
    "\n",
    "# Function to create model, required for KerasClassifier\n",
    "def create_model(init_mode='uniform'):\n",
    "    # create model\n",
    "    model = Sequential()\n",
    "    model.add(Dense(12, input_dim=8, init=init_mode, activation='relu'))\n",
    "    model.add(Dense(1, init=init_mode, activation='sigmoid'))\n",
    "\n",
    "    # Compile model\n",
    "    model.compile(loss='binary_crossentropy', optimizer='adam', metrics=['accuracy'])\n",
    "    \n",
    "    return model\n",
    "\n",
    "# fix random seed for reproducibility\n",
    "seed = 7\n",
    "numpy.random.seed(seed)\n",
    "\n",
    "# load dataset\n",
    "dataset = numpy.loadtxt(\"pima-indians-diabetes.csv\", delimiter=\",\")\n",
    "\n",
    "# split into input (X) and output (Y) variables\n",
    "X = dataset[:,0:8]\n",
    "Y = dataset[:,8]\n",
    "\n",
    "# create model\n",
    "model = KerasClassifier(build_fn=create_model, nb_epoch=100, batch_size=10, verbose=0)"
   ]
  },
  {
   "cell_type": "code",
   "execution_count": 23,
   "metadata": {
    "collapsed": false
   },
   "outputs": [
    {
     "name": "stdout",
     "output_type": "stream",
     "text": [
      "Best: 0.720052 using {'init_mode': 'uniform'}\n",
      "0.720052 (0.024360) with: {'init_mode': 'uniform'}\n",
      "0.348958 (0.024774) with: {'init_mode': 'lecun_uniform'}\n",
      "0.712240 (0.012075) with: {'init_mode': 'normal'}\n",
      "0.651042 (0.024774) with: {'init_mode': 'zero'}\n",
      "0.700521 (0.010253) with: {'init_mode': 'glorot_normal'}\n",
      "0.674479 (0.011201) with: {'init_mode': 'glorot_uniform'}\n",
      "0.661458 (0.028940) with: {'init_mode': 'he_normal'}\n",
      "0.678385 (0.004872) with: {'init_mode': 'he_uniform'}\n"
     ]
    }
   ],
   "source": [
    "# define the grid search parameters\n",
    "init_mode = ['uniform', 'lecun_uniform', 'normal', 'zero', 'glorot_normal', 'glorot_uniform', 'he_normal', 'he_uniform']\n",
    "param_grid = dict(init_mode=init_mode)\n",
    "grid = GridSearchCV(estimator=model, param_grid=param_grid, n_jobs=-1)\n",
    "grid_result = grid.fit(X, Y)\n",
    "\n",
    "# summarize results\n",
    "print(\"Best: %f using %s\" % (grid_result.best_score_, grid_result.best_params_))\n",
    "means = grid_result.cv_results_['mean_test_score']\n",
    "stds = grid_result.cv_results_['std_test_score']\n",
    "params = grid_result.cv_results_['params']\n",
    "for mean, stdev, param in zip(means, stds, params):\n",
    "    print(\"%f (%f) with: %r\" % (mean, stdev, param))"
   ]
  },
  {
   "cell_type": "markdown",
   "metadata": {},
   "source": [
    "### Example 5: Tuning the Neuron Activation Function\n",
    "\n",
    "While from my own experience attending conferences and online articles, I see relu as being a pretty popular all-around option for activation functions and the authors agree:\n",
    ">Generally, the rectifier activation function is the most popular, but it used to be the sigmoid and the tanh functions and these functions may still be more suitable for different problems."
   ]
  },
  {
   "cell_type": "code",
   "execution_count": 24,
   "metadata": {
    "collapsed": false
   },
   "outputs": [
    {
     "name": "stderr",
     "output_type": "stream",
     "text": [
      "INFO (theano.gof.compilelock): Waiting for existing lock by unknown process (I am process '15731')\n",
      "INFO (theano.gof.compilelock): To manually release the lock, delete /Users/Chris/.theano/compiledir_Darwin-16.4.0-x86_64-i386-64bit-i386-3.5.2-64/lock_dir\n",
      "INFO (theano.gof.compilelock): Waiting for existing lock by process '15734' (I am process '15733')\n",
      "INFO (theano.gof.compilelock): To manually release the lock, delete /Users/Chris/.theano/compiledir_Darwin-16.4.0-x86_64-i386-64bit-i386-3.5.2-64/lock_dir\n",
      "INFO (theano.gof.compilelock): Waiting for existing lock by process '15728' (I am process '15729')\n",
      "INFO (theano.gof.compilelock): To manually release the lock, delete /Users/Chris/.theano/compiledir_Darwin-16.4.0-x86_64-i386-64bit-i386-3.5.2-64/lock_dir\n",
      "INFO (theano.gof.compilelock): Waiting for existing lock by process '15727' (I am process '15729')\n",
      "INFO (theano.gof.compilelock): To manually release the lock, delete /Users/Chris/.theano/compiledir_Darwin-16.4.0-x86_64-i386-64bit-i386-3.5.2-64/lock_dir\n",
      "INFO (theano.gof.compilelock): Waiting for existing lock by process '15727' (I am process '15731')\n",
      "INFO (theano.gof.compilelock): To manually release the lock, delete /Users/Chris/.theano/compiledir_Darwin-16.4.0-x86_64-i386-64bit-i386-3.5.2-64/lock_dir\n",
      "INFO (theano.gof.compilelock): Waiting for existing lock by process '15727' (I am process '15733')\n",
      "INFO (theano.gof.compilelock): To manually release the lock, delete /Users/Chris/.theano/compiledir_Darwin-16.4.0-x86_64-i386-64bit-i386-3.5.2-64/lock_dir\n",
      "INFO (theano.gof.compilelock): Waiting for existing lock by process '15727' (I am process '15732')\n",
      "INFO (theano.gof.compilelock): To manually release the lock, delete /Users/Chris/.theano/compiledir_Darwin-16.4.0-x86_64-i386-64bit-i386-3.5.2-64/lock_dir\n",
      "INFO (theano.gof.compilelock): Waiting for existing lock by process '15727' (I am process '15734')\n",
      "INFO (theano.gof.compilelock): To manually release the lock, delete /Users/Chris/.theano/compiledir_Darwin-16.4.0-x86_64-i386-64bit-i386-3.5.2-64/lock_dir\n",
      "INFO (theano.gof.compilelock): Waiting for existing lock by process '15732' (I am process '15733')\n",
      "INFO (theano.gof.compilelock): To manually release the lock, delete /Users/Chris/.theano/compiledir_Darwin-16.4.0-x86_64-i386-64bit-i386-3.5.2-64/lock_dir\n"
     ]
    },
    {
     "name": "stdout",
     "output_type": "stream",
     "text": [
      "Best: 0.722656 using {'activation': 'softplus'}\n",
      "0.649740 (0.009744) with: {'activation': 'softmax'}\n",
      "0.722656 (0.033603) with: {'activation': 'softplus'}\n",
      "0.688802 (0.001841) with: {'activation': 'softsign'}\n",
      "0.720052 (0.018136) with: {'activation': 'relu'}\n",
      "0.683594 (0.003189) with: {'activation': 'tanh'}\n",
      "0.704427 (0.020752) with: {'activation': 'sigmoid'}\n",
      "0.687500 (0.009568) with: {'activation': 'hard_sigmoid'}\n",
      "0.697917 (0.019225) with: {'activation': 'linear'}\n"
     ]
    }
   ],
   "source": [
    "# Use scikit-learn to grid search the activation function\n",
    "import numpy\n",
    "from sklearn.model_selection import GridSearchCV\n",
    "from keras.models import Sequential\n",
    "from keras.layers import Dense\n",
    "from keras.wrappers.scikit_learn import KerasClassifier\n",
    "\n",
    "# Function to create model, required for KerasClassifier\n",
    "def create_model(activation='relu'):\n",
    "    # create model\n",
    "    model = Sequential()\n",
    "    model.add(Dense(12, input_dim=8, init='uniform', activation=activation))\n",
    "    model.add(Dense(1, init='uniform', activation='sigmoid'))\n",
    "    \n",
    "    # Compile model\n",
    "    model.compile(loss='binary_crossentropy', optimizer='adam', metrics=['accuracy'])\n",
    "    \n",
    "    return model\n",
    "\n",
    "# fix random seed for reproducibility\n",
    "seed = 7\n",
    "numpy.random.seed(seed)\n",
    "\n",
    "# load dataset\n",
    "dataset = numpy.loadtxt(\"pima-indians-diabetes.csv\", delimiter=\",\")\n",
    "\n",
    "# split into input (X) and output (Y) variables\n",
    "X = dataset[:,0:8]\n",
    "Y = dataset[:,8]\n",
    "\n",
    "# create model\n",
    "model = KerasClassifier(build_fn=create_model, nb_epoch=100, batch_size=10, verbose=0)\n",
    "\n",
    "# define the grid search parameters\n",
    "activation = ['softmax', 'softplus', 'softsign', 'relu', 'tanh', 'sigmoid', 'hard_sigmoid', 'linear']\n",
    "param_grid = dict(activation=activation)\n",
    "grid = GridSearchCV(estimator=model, param_grid=param_grid, n_jobs=-1)\n",
    "grid_result = grid.fit(X, Y)\n",
    "\n",
    "# summarize results\n",
    "print(\"Best: %f using %s\" % (grid_result.best_score_, grid_result.best_params_))\n",
    "means = grid_result.cv_results_['mean_test_score']\n",
    "stds = grid_result.cv_results_['std_test_score']\n",
    "params = grid_result.cv_results_['params']\n",
    "for mean, stdev, param in zip(means, stds, params):\n",
    "    print(\"%f (%f) with: %r\" % (mean, stdev, param))"
   ]
  },
  {
   "cell_type": "markdown",
   "metadata": {},
   "source": [
    "The authors found that a linear activation function was best. In my case it was softplus. These and relu are very close to each other. The authors also mention that the data should be pre-processed for these different activation functions first. This would almost certainly contribute to the surprising results."
   ]
  },
  {
   "cell_type": "markdown",
   "metadata": {},
   "source": [
    "### Example 6: Tuning Dropout Regularization"
   ]
  },
  {
   "cell_type": "code",
   "execution_count": 26,
   "metadata": {
    "collapsed": false
   },
   "outputs": [
    {
     "name": "stderr",
     "output_type": "stream",
     "text": [
      "INFO (theano.gof.compilelock): Waiting for existing lock by unknown process (I am process '15946')\n",
      "INFO (theano.gof.compilelock): To manually release the lock, delete /Users/Chris/.theano/compiledir_Darwin-16.4.0-x86_64-i386-64bit-i386-3.5.2-64/lock_dir\n"
     ]
    },
    {
     "name": "stdout",
     "output_type": "stream",
     "text": [
      "Best: 0.725260 using {'weight_constraint': 4, 'dropout_rate': 0.3}\n",
      "0.696615 (0.031948) with: {'weight_constraint': 1, 'dropout_rate': 0.0}\n",
      "0.696615 (0.031948) with: {'weight_constraint': 2, 'dropout_rate': 0.0}\n",
      "0.691406 (0.026107) with: {'weight_constraint': 3, 'dropout_rate': 0.0}\n",
      "0.710938 (0.011049) with: {'weight_constraint': 4, 'dropout_rate': 0.0}\n",
      "0.708333 (0.009744) with: {'weight_constraint': 5, 'dropout_rate': 0.0}\n",
      "0.709635 (0.010253) with: {'weight_constraint': 1, 'dropout_rate': 0.1}\n",
      "0.709635 (0.007366) with: {'weight_constraint': 2, 'dropout_rate': 0.1}\n",
      "0.708333 (0.006639) with: {'weight_constraint': 3, 'dropout_rate': 0.1}\n",
      "0.703125 (0.006379) with: {'weight_constraint': 4, 'dropout_rate': 0.1}\n",
      "0.708333 (0.009744) with: {'weight_constraint': 5, 'dropout_rate': 0.1}\n",
      "0.710938 (0.009568) with: {'weight_constraint': 1, 'dropout_rate': 0.2}\n",
      "0.710938 (0.009568) with: {'weight_constraint': 2, 'dropout_rate': 0.2}\n",
      "0.720052 (0.021710) with: {'weight_constraint': 3, 'dropout_rate': 0.2}\n",
      "0.703125 (0.008438) with: {'weight_constraint': 4, 'dropout_rate': 0.2}\n",
      "0.709635 (0.029635) with: {'weight_constraint': 5, 'dropout_rate': 0.2}\n",
      "0.718750 (0.028348) with: {'weight_constraint': 1, 'dropout_rate': 0.3}\n",
      "0.720052 (0.027126) with: {'weight_constraint': 2, 'dropout_rate': 0.3}\n",
      "0.717448 (0.031948) with: {'weight_constraint': 3, 'dropout_rate': 0.3}\n",
      "0.725260 (0.028587) with: {'weight_constraint': 4, 'dropout_rate': 0.3}\n",
      "0.716146 (0.030145) with: {'weight_constraint': 5, 'dropout_rate': 0.3}\n",
      "0.717448 (0.031466) with: {'weight_constraint': 1, 'dropout_rate': 0.4}\n",
      "0.714844 (0.019401) with: {'weight_constraint': 2, 'dropout_rate': 0.4}\n",
      "0.721354 (0.028587) with: {'weight_constraint': 3, 'dropout_rate': 0.4}\n",
      "0.707031 (0.011049) with: {'weight_constraint': 4, 'dropout_rate': 0.4}\n",
      "0.716146 (0.032264) with: {'weight_constraint': 5, 'dropout_rate': 0.4}\n",
      "0.697917 (0.004872) with: {'weight_constraint': 1, 'dropout_rate': 0.5}\n",
      "0.705729 (0.006639) with: {'weight_constraint': 2, 'dropout_rate': 0.5}\n",
      "0.701823 (0.012890) with: {'weight_constraint': 3, 'dropout_rate': 0.5}\n",
      "0.723958 (0.024150) with: {'weight_constraint': 4, 'dropout_rate': 0.5}\n",
      "0.714844 (0.003189) with: {'weight_constraint': 5, 'dropout_rate': 0.5}\n",
      "0.708333 (0.018136) with: {'weight_constraint': 1, 'dropout_rate': 0.6}\n",
      "0.695313 (0.013902) with: {'weight_constraint': 2, 'dropout_rate': 0.6}\n",
      "0.703125 (0.019401) with: {'weight_constraint': 3, 'dropout_rate': 0.6}\n",
      "0.687500 (0.024080) with: {'weight_constraint': 4, 'dropout_rate': 0.6}\n",
      "0.694010 (0.008027) with: {'weight_constraint': 5, 'dropout_rate': 0.6}\n",
      "0.704427 (0.017566) with: {'weight_constraint': 1, 'dropout_rate': 0.7}\n",
      "0.694010 (0.017566) with: {'weight_constraint': 2, 'dropout_rate': 0.7}\n",
      "0.697917 (0.014382) with: {'weight_constraint': 3, 'dropout_rate': 0.7}\n",
      "0.697917 (0.004872) with: {'weight_constraint': 4, 'dropout_rate': 0.7}\n",
      "0.704427 (0.011201) with: {'weight_constraint': 5, 'dropout_rate': 0.7}\n",
      "0.694010 (0.016367) with: {'weight_constraint': 1, 'dropout_rate': 0.8}\n",
      "0.696615 (0.017566) with: {'weight_constraint': 2, 'dropout_rate': 0.8}\n",
      "0.694010 (0.011201) with: {'weight_constraint': 3, 'dropout_rate': 0.8}\n",
      "0.683594 (0.008438) with: {'weight_constraint': 4, 'dropout_rate': 0.8}\n",
      "0.697917 (0.012890) with: {'weight_constraint': 5, 'dropout_rate': 0.8}\n",
      "0.673177 (0.016053) with: {'weight_constraint': 1, 'dropout_rate': 0.9}\n",
      "0.673177 (0.015073) with: {'weight_constraint': 2, 'dropout_rate': 0.9}\n",
      "0.671875 (0.014616) with: {'weight_constraint': 3, 'dropout_rate': 0.9}\n",
      "0.669271 (0.018136) with: {'weight_constraint': 4, 'dropout_rate': 0.9}\n",
      "0.669271 (0.018136) with: {'weight_constraint': 5, 'dropout_rate': 0.9}\n"
     ]
    }
   ],
   "source": [
    "# Use scikit-learn to grid search the dropout rate\n",
    "import numpy\n",
    "from sklearn.model_selection import GridSearchCV\n",
    "from keras.models import Sequential\n",
    "from keras.layers import Dense\n",
    "from keras.layers import Dropout\n",
    "from keras.wrappers.scikit_learn import KerasClassifier\n",
    "from keras.constraints import maxnorm\n",
    "\n",
    "# Function to create model, required for KerasClassifier\n",
    "def create_model(dropout_rate=0.0, weight_constraint=0):\n",
    "    # create model\n",
    "    model = Sequential()\n",
    "    model.add(Dense(12, input_dim=8, init='uniform', activation='linear', W_constraint=maxnorm(weight_constraint)))\n",
    "    model.add(Dropout(dropout_rate))\n",
    "    model.add(Dense(1, init='uniform', activation='sigmoid'))\n",
    "    \n",
    "    # Compile model\n",
    "    model.compile(loss='binary_crossentropy', optimizer='adam', metrics=['accuracy'])\n",
    "    \n",
    "    return model\n",
    "\n",
    "# fix random seed for reproducibility\n",
    "seed = 7\n",
    "numpy.random.seed(seed)\n",
    "\n",
    "# load dataset\n",
    "dataset = numpy.loadtxt(\"pima-indians-diabetes.csv\", delimiter=\",\")\n",
    "\n",
    "# split into input (X) and output (Y) variables\n",
    "X = dataset[:,0:8]\n",
    "Y = dataset[:,8]\n",
    "\n",
    "# create model\n",
    "model = KerasClassifier(build_fn=create_model, nb_epoch=100, batch_size=10, verbose=0)\n",
    "\n",
    "# define the grid search parameters\n",
    "weight_constraint = [1, 2, 3, 4, 5]\n",
    "dropout_rate = [0.0, 0.1, 0.2, 0.3, 0.4, 0.5, 0.6, 0.7, 0.8, 0.9]\n",
    "param_grid = dict(dropout_rate=dropout_rate, weight_constraint=weight_constraint)\n",
    "grid = GridSearchCV(estimator=model, param_grid=param_grid, n_jobs=-1)\n",
    "grid_result = grid.fit(X, Y)\n",
    "\n",
    "# summarize results\n",
    "print(\"Best: %f using %s\" % (grid_result.best_score_, grid_result.best_params_))\n",
    "means = grid_result.cv_results_['mean_test_score']\n",
    "stds = grid_result.cv_results_['std_test_score']\n",
    "params = grid_result.cv_results_['params']\n",
    "for mean, stdev, param in zip(means, stds, params):\n",
    "    print(\"%f (%f) with: %r\" % (mean, stdev, param))"
   ]
  },
  {
   "cell_type": "markdown",
   "metadata": {},
   "source": [
    "### Example 7: Tuning the Number of Neurons in the Hidden Layer"
   ]
  },
  {
   "cell_type": "code",
   "execution_count": 27,
   "metadata": {
    "collapsed": false
   },
   "outputs": [
    {
     "name": "stderr",
     "output_type": "stream",
     "text": [
      "INFO (theano.gof.compilelock): Waiting for existing lock by unknown process (I am process '16060')\n",
      "INFO (theano.gof.compilelock): To manually release the lock, delete /Users/Chris/.theano/compiledir_Darwin-16.4.0-x86_64-i386-64bit-i386-3.5.2-64/lock_dir\n",
      "INFO (theano.gof.compilelock): Waiting for existing lock by process '16059' (I am process '16065')\n",
      "INFO (theano.gof.compilelock): To manually release the lock, delete /Users/Chris/.theano/compiledir_Darwin-16.4.0-x86_64-i386-64bit-i386-3.5.2-64/lock_dir\n",
      "INFO (theano.gof.compilelock): Waiting for existing lock by process '16059' (I am process '16063')\n",
      "INFO (theano.gof.compilelock): To manually release the lock, delete /Users/Chris/.theano/compiledir_Darwin-16.4.0-x86_64-i386-64bit-i386-3.5.2-64/lock_dir\n"
     ]
    },
    {
     "name": "stdout",
     "output_type": "stream",
     "text": [
      "Best: 0.716146 using {'neurons': 20}\n",
      "0.700521 (0.011201) with: {'neurons': 1}\n",
      "0.714844 (0.011049) with: {'neurons': 5}\n",
      "0.712240 (0.017566) with: {'neurons': 10}\n",
      "0.695313 (0.014616) with: {'neurons': 15}\n",
      "0.716146 (0.024150) with: {'neurons': 20}\n",
      "0.714844 (0.033146) with: {'neurons': 25}\n",
      "0.709635 (0.025976) with: {'neurons': 30}\n"
     ]
    }
   ],
   "source": [
    "# Use scikit-learn to grid search the number of neurons\n",
    "import numpy\n",
    "from sklearn.model_selection import GridSearchCV\n",
    "from keras.models import Sequential\n",
    "from keras.layers import Dense\n",
    "from keras.layers import Dropout\n",
    "from keras.wrappers.scikit_learn import KerasClassifier\n",
    "from keras.constraints import maxnorm\n",
    "\n",
    "# Function to create model, required for KerasClassifier\n",
    "def create_model(neurons=1):\n",
    "    # create model\n",
    "    model = Sequential()\n",
    "    model.add(Dense(neurons, input_dim=8, init='uniform', activation='linear', W_constraint=maxnorm(4)))\n",
    "    model.add(Dropout(0.2))\n",
    "    model.add(Dense(1, init='uniform', activation='sigmoid'))\n",
    "    \n",
    "    # Compile model\n",
    "    model.compile(loss='binary_crossentropy', optimizer='adam', metrics=['accuracy'])\n",
    "    \n",
    "    return model\n",
    "\n",
    "# fix random seed for reproducibility\n",
    "seed = 7\n",
    "numpy.random.seed(seed)\n",
    "\n",
    "# load dataset\n",
    "dataset = numpy.loadtxt(\"pima-indians-diabetes.csv\", delimiter=\",\")\n",
    "\n",
    "# split into input (X) and output (Y) variables\n",
    "X = dataset[:,0:8]\n",
    "Y = dataset[:,8]\n",
    "\n",
    "# create model\n",
    "model = KerasClassifier(build_fn=create_model, nb_epoch=100, batch_size=10, verbose=0)\n",
    "\n",
    "# define the grid search parameters\n",
    "neurons = [1, 5, 10, 15, 20, 25, 30]\n",
    "param_grid = dict(neurons=neurons)\n",
    "grid = GridSearchCV(estimator=model, param_grid=param_grid, n_jobs=-1)\n",
    "grid_result = grid.fit(X, Y)\n",
    "\n",
    "# summarize results\n",
    "print(\"Best: %f using %s\" % (grid_result.best_score_, grid_result.best_params_))\n",
    "means = grid_result.cv_results_['mean_test_score']\n",
    "stds = grid_result.cv_results_['std_test_score']\n",
    "params = grid_result.cv_results_['params']\n",
    "for mean, stdev, param in zip(means, stds, params):\n",
    "    print(\"%f (%f) with: %r\" % (mean, stdev, param))"
   ]
  },
  {
   "cell_type": "markdown",
   "metadata": {},
   "source": [
    "## Conclusion\n",
    "\n",
    "We used Grid Search to try many combinations of parameters. We also learned about some parameters would could change that we didn't know had more options."
   ]
  }
 ],
 "metadata": {
  "kernelspec": {
   "display_name": "Python [Root]",
   "language": "python",
   "name": "Python [Root]"
  },
  "language_info": {
   "codemirror_mode": {
    "name": "ipython",
    "version": 3
   },
   "file_extension": ".py",
   "mimetype": "text/x-python",
   "name": "python",
   "nbconvert_exporter": "python",
   "pygments_lexer": "ipython3",
   "version": "3.5.2"
  }
 },
 "nbformat": 4,
 "nbformat_minor": 0
}
