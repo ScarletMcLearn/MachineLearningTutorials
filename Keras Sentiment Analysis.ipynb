{
 "cells": [
  {
   "cell_type": "markdown",
   "metadata": {},
   "source": [
    "# Sentiment Analysis with Keras Deep Learning\n",
    "\n",
    "## Credits\n",
    "Thanks to the folks at [machinelearningmastery.com](machinelearningmastery.com) for their tutorial on Sentiment Analysis for Keras Deep Learning. You can find the [original tutorial here](http://machinelearningmastery.com/predict-sentiment-movie-reviews-using-deep-learning/#comment-386724).\n",
    "\n",
    "## Purpose\n",
    "My aim is to follow the tutorial and repackage it as a ready-to-go iPython notebook. That way, anyone can pull the code and interact with it without ever even leaving the tutorial. I will also provide my insights and \"what I learned\" as well. In this demo, I am also bringing the code up to date a bit. \n",
    "\n",
    "## Environment\n",
    "This notebook was written in Jupyter along with:\n",
    "* Python 3.5.2 :: Anaconda 4.1.1 (x86_64)\n",
    "* Keras (1.2.1)\n",
    "* tensorflow (0.12.1)\n",
    "* numpy (1.11.2)\n",
    "* matplotlib (1.5.3)\n",
    "\n",
    "## Overview\n",
    "\n",
    "We start with a quick visualization of the IMDB dataset, then we build two simple models one without convolutions and then one with convolutions.\n",
    "\n",
    "### Visualization & Background\n",
    "In this section of the tutorial, we write some code to better understand the dataset. \n",
    "\n",
    "#### About the Dataset\n",
    "In this case we are working with the IMDB (Internet Movie DataBase) which includes thousands of move reviews in plain text. You can [find it on Kaggle](https://www.kaggle.com/c/word2vec-nlp-tutorial/data) if you are interested in submitting your results. The words in the dataset are encoded as numbers based on their absolute popularity.\n",
    "\n",
    "The labels for the dataset are just 0 and 1 representing whether or not the review was positive.\n",
    "\n",
    "#### Imports\n",
    "As usual, we need to set matplotlib to be inline for our notebook format and import the necessary libraries."
   ]
  },
  {
   "cell_type": "code",
   "execution_count": 1,
   "metadata": {
    "collapsed": false
   },
   "outputs": [
    {
     "name": "stderr",
     "output_type": "stream",
     "text": [
      "Using TensorFlow backend.\n"
     ]
    }
   ],
   "source": [
    "%matplotlib inline\n",
    "import numpy\n",
    "from keras.datasets import imdb\n",
    "from matplotlib import pyplot\n",
    "from keras.models import Sequential\n",
    "from keras.layers import Dense\n",
    "from keras.layers import Flatten\n",
    "from keras.layers.convolutional import Convolution1D\n",
    "from keras.layers.convolutional import MaxPooling1D\n",
    "from keras.layers.embeddings import Embedding\n",
    "from keras.preprocessing import sequence"
   ]
  },
  {
   "cell_type": "markdown",
   "metadata": {},
   "source": [
    "#### Reproducability\n",
    "A recurring theme in data science and tutorials at [machinelearningmastery.com](machinelearningmastery.com) is reproducible research. One good rule of thumb is to initialize a random seed so that researches can repeat the same experiments."
   ]
  },
  {
   "cell_type": "code",
   "execution_count": 2,
   "metadata": {
    "collapsed": true
   },
   "outputs": [],
   "source": [
    "# fix random seed for reproducibility\n",
    "seed = 7\n",
    "numpy.random.seed(seed)"
   ]
  },
  {
   "cell_type": "markdown",
   "metadata": {},
   "source": [
    "#### Get the Data\n",
    "Now that we have everything set up, let's import the data set. Since we just want a summary of the whole data set, we can merge the train and test sets."
   ]
  },
  {
   "cell_type": "code",
   "execution_count": 3,
   "metadata": {
    "collapsed": false
   },
   "outputs": [],
   "source": [
    "# load the dataset\n",
    "(X_train, y_train), (X_test, y_test) = imdb.load_data()\n",
    "X = numpy.concatenate((X_train, X_test), axis=0)\n",
    "y = numpy.concatenate((y_train, y_test), axis=0)"
   ]
  },
  {
   "cell_type": "markdown",
   "metadata": {},
   "source": [
    "#### Summarize the Data\n",
    "Let's examine the dimensions, the number of possible labels (classes), the total number of unique words, and the average length of the reviews and their standard deviation."
   ]
  },
  {
   "cell_type": "code",
   "execution_count": 4,
   "metadata": {
    "collapsed": false
   },
   "outputs": [
    {
     "name": "stdout",
     "output_type": "stream",
     "text": [
      "Training data: \n",
      "(50000,)\n",
      "(50000,)\n",
      "Classes: \n",
      "[0 1]\n",
      "Number of words: \n",
      "88585\n",
      "Review length: \n",
      "Mean 234.76 words (172.911495)\n"
     ]
    }
   ],
   "source": [
    "# summarize size\n",
    "print(\"Training data: \")\n",
    "print(X.shape)\n",
    "print(y.shape)\n",
    "\n",
    "# Summarize number of classes\n",
    "print(\"Classes: \")\n",
    "print(numpy.unique(y))\n",
    "\n",
    "# Summarize number of words\n",
    "print(\"Number of words: \")\n",
    "print(len(numpy.unique(numpy.hstack(X))))\n",
    "\n",
    "# Summarize review length\n",
    "print(\"Review length: \")\n",
    "result = list(map(len, X))\n",
    "print(\"Mean %.2f words (%f)\" % (numpy.mean(result), numpy.std(result)))"
   ]
  },
  {
   "cell_type": "markdown",
   "metadata": {},
   "source": [
    "#### Visualize the Data\n",
    "We can get a better understanding of the distribution of word usage. When you look at the plot, you can see that some reviews are extremely long but they are certainly outliers. The majority appear to be somewhere just above 500. We can take advantage of that later to save time in training and to prevent overfitting to outliers."
   ]
  },
  {
   "cell_type": "code",
   "execution_count": 5,
   "metadata": {
    "collapsed": false
   },
   "outputs": [
    {
     "data": {
      "image/png": "[encoded data removed]",
      "text/plain": [
       "<matplotlib.figure.Figure at 0x105b78ac8>"
      ]
     },
     "metadata": {},
     "output_type": "display_data"
    }
   ],
   "source": [
    "# plot review length\n",
    "pyplot.boxplot(result)\n",
    "pyplot.title('Review Length in Words for IMDB Dataset') # subplot 211 title\n",
    "pyplot.ylabel(\"Review Length In Words\")\n",
    "pyplot.show()"
   ]
  },
  {
   "cell_type": "markdown",
   "metadata": {},
   "source": [
    "### Preprocessing & Word Embedding\n",
    "To preprocess, we are going to select only the most used words. We can use the nb_words parameter to tune this threshold. Tuning this treshold allows one to get the most value out of training on the least data necessary. Depending on the dataset, you might need to be careful about the value of individual words (eg cerebral, hilarious, Nicholas Cage vs. I, the, and movie).\n",
    "\n",
    "The article introduces a technique known as word embedding. In this process we are not just converting words to numbers but specifically to real-valued numbers. We can achieve this with Keras by adding an Embedding layer. We can specify the shape of the embeddings as well. Converting the review text into real-valued numbers enables us to train a neural network just like any other.\n",
    "\n",
    "It is important to note that we will truncate any large reviews and pad any small reviews."
   ]
  },
  {
   "cell_type": "code",
   "execution_count": 6,
   "metadata": {
    "collapsed": true
   },
   "outputs": [],
   "source": [
    "# load the dataset but only keep the top n words, zero the rest\n",
    "top_words = 5000\n",
    "(X_train, y_train), (X_test, y_test) = imdb.load_data(nb_words=top_words)"
   ]
  },
  {
   "cell_type": "code",
   "execution_count": 7,
   "metadata": {
    "collapsed": true
   },
   "outputs": [],
   "source": [
    "# Pad the small reviews\n",
    "max_words = 500\n",
    "X_train = sequence.pad_sequences(X_train, maxlen=max_words)\n",
    "X_test = sequence.pad_sequences(X_test, maxlen=max_words)"
   ]
  },
  {
   "cell_type": "markdown",
   "metadata": {},
   "source": [
    "### Baseline Model"
   ]
  },
  {
   "cell_type": "markdown",
   "metadata": {},
   "source": [
    "#### Define the Model and Compile to Backend\n",
    "Here is the critical code for Keras to build the net. We have a boilerplate Sequential() object to which we add() several layers including the aforementioned Embedding() as well as a Flatten() layer, a hidden Dense() layer, and a single Dense() output for a positive/negative review."
   ]
  },
  {
   "cell_type": "code",
   "execution_count": 8,
   "metadata": {
    "collapsed": false
   },
   "outputs": [],
   "source": [
    "# create the model\n",
    "model = Sequential()\n",
    "# Note the word embeddings\n",
    "model.add(Embedding(top_words, 32, input_length=max_words))\n",
    "# Flatten (or unroll) takes us from a 2D matrix (32x500) to 1D vector (1x32*500)\n",
    "model.add(Flatten())\n",
    "model.add(Dense(250, activation='relu'))\n",
    "model.add(Dense(1, activation='sigmoid'))\n",
    "model.compile(loss='binary_crossentropy', optimizer='adam', metrics=['accuracy'])"
   ]
  },
  {
   "cell_type": "markdown",
   "metadata": {},
   "source": [
    "We can actually print out a description of the model object with summary(). Pretty handy! Maybe one day it will even print out a diagram of the network."
   ]
  },
  {
   "cell_type": "code",
   "execution_count": 9,
   "metadata": {
    "collapsed": false
   },
   "outputs": [
    {
     "name": "stdout",
     "output_type": "stream",
     "text": [
      "____________________________________________________________________________________________________\n",
      "Layer (type)                     Output Shape          Param #     Connected to                     \n",
      "====================================================================================================\n",
      "embedding_1 (Embedding)          (None, 500, 32)       160000      embedding_input_1[0][0]          \n",
      "____________________________________________________________________________________________________\n",
      "flatten_1 (Flatten)              (None, 16000)         0           embedding_1[0][0]                \n",
      "____________________________________________________________________________________________________\n",
      "dense_1 (Dense)                  (None, 250)           4000250     flatten_1[0][0]                  \n",
      "____________________________________________________________________________________________________\n",
      "dense_2 (Dense)                  (None, 1)             251         dense_1[0][0]                    \n",
      "====================================================================================================\n",
      "Total params: 4,160,501\n",
      "Trainable params: 4,160,501\n",
      "Non-trainable params: 0\n",
      "____________________________________________________________________________________________________\n",
      "None\n"
     ]
    }
   ],
   "source": [
    "print(model.summary())"
   ]
  },
  {
   "cell_type": "markdown",
   "metadata": {},
   "source": [
    "#### Train/Fit the Model\n",
    "This step takes a few seconds to a few minutes to get an accuracy around 87%. I would love to see a comparison to human ability for this one as some reviews could be difficult to understand and would obviously take much much longer for a person."
   ]
  },
  {
   "cell_type": "code",
   "execution_count": 10,
   "metadata": {
    "collapsed": false
   },
   "outputs": [
    {
     "name": "stdout",
     "output_type": "stream",
     "text": [
      "Accuracy: 87.35%\n"
     ]
    }
   ],
   "source": [
    "# Fit the model\n",
    "model.fit(X_train, y_train, validation_data=(X_test, y_test), nb_epoch=2, batch_size=128, verbose=0)\n",
    "# Final evaluation of the model\n",
    "scores = model.evaluate(X_test, y_test, verbose=0)\n",
    "print(\"Accuracy: %.2f%%\" % (scores[1]*100))"
   ]
  },
  {
   "cell_type": "markdown",
   "metadata": {},
   "source": [
    "#### Results of Baseline Model\n",
    "Our results are promising. It is possible to imagine that with additional tuning of the word embeddings and neural network architecture, we might be able to achieve even better results."
   ]
  },
  {
   "cell_type": "markdown",
   "metadata": {},
   "source": [
    "### Improving the Model\n",
    "Now that we have a baseline, we can experiment with other techniques. We are going to see what happens when we add a convolution. More information about convolutions can be found at [machinelearningmastery.com](machinelearningmastery.com) as well as this GitHub repo."
   ]
  },
  {
   "cell_type": "markdown",
   "metadata": {},
   "source": [
    "#### Define the Model and Compile to Backend\n",
    "The model is essentially the same but we also apply a Convolution1D() layer and a MaxPooling1D() layer. The pooling layer is akin to dimensionality reduction. Intuitively, we can think of it as a way to take only the relevant information gleaned from convolution and discarding the excess."
   ]
  },
  {
   "cell_type": "code",
   "execution_count": 11,
   "metadata": {
    "collapsed": false
   },
   "outputs": [
    {
     "name": "stdout",
     "output_type": "stream",
     "text": [
      "____________________________________________________________________________________________________\n",
      "Layer (type)                     Output Shape          Param #     Connected to                     \n",
      "====================================================================================================\n",
      "embedding_2 (Embedding)          (None, 500, 32)       160000      embedding_input_2[0][0]          \n",
      "____________________________________________________________________________________________________\n",
      "convolution1d_1 (Convolution1D)  (None, 500, 32)       3104        embedding_2[0][0]                \n",
      "____________________________________________________________________________________________________\n",
      "maxpooling1d_1 (MaxPooling1D)    (None, 250, 32)       0           convolution1d_1[0][0]            \n",
      "____________________________________________________________________________________________________\n",
      "flatten_2 (Flatten)              (None, 8000)          0           maxpooling1d_1[0][0]             \n",
      "____________________________________________________________________________________________________\n",
      "dense_3 (Dense)                  (None, 250)           2000250     flatten_2[0][0]                  \n",
      "____________________________________________________________________________________________________\n",
      "dense_4 (Dense)                  (None, 1)             251         dense_3[0][0]                    \n",
      "====================================================================================================\n",
      "Total params: 2,163,605\n",
      "Trainable params: 2,163,605\n",
      "Non-trainable params: 0\n",
      "____________________________________________________________________________________________________\n",
      "None\n"
     ]
    }
   ],
   "source": [
    "# create the model\n",
    "model = Sequential()\n",
    "model.add(Embedding(top_words, 32, input_length=max_words))\n",
    "model.add(Convolution1D(nb_filter=32, filter_length=3, border_mode='same', activation='relu'))\n",
    "model.add(MaxPooling1D(pool_length=2))\n",
    "model.add(Flatten())\n",
    "model.add(Dense(250, activation='relu'))\n",
    "model.add(Dense(1, activation='sigmoid'))\n",
    "model.compile(loss='binary_crossentropy', optimizer='adam', metrics=['accuracy'])\n",
    "print(model.summary())"
   ]
  },
  {
   "cell_type": "markdown",
   "metadata": {},
   "source": [
    "#### Training the Model\n",
    "This will take several minutes longer than the baseline model."
   ]
  },
  {
   "cell_type": "code",
   "execution_count": 12,
   "metadata": {
    "collapsed": false
   },
   "outputs": [
    {
     "name": "stdout",
     "output_type": "stream",
     "text": [
      "Accuracy: 88.38%\n"
     ]
    }
   ],
   "source": [
    "# Fit the model\n",
    "model.fit(X_train, y_train, validation_data=(X_test, y_test), nb_epoch=2, batch_size=128, verbose=0)\n",
    "# Final evaluation of the model\n",
    "scores = model.evaluate(X_test, y_test, verbose=0)\n",
    "print(\"Accuracy: %.2f%%\" % (scores[1]*100))"
   ]
  },
  {
   "cell_type": "markdown",
   "metadata": {},
   "source": [
    "#### Results of Applying Convolutions\n",
    "In the end, we can see at least a small improvement by using convolutions. Our author attributes the improvement from convolution to the concept of sequences within the text much like sequences/patterns in image features which conv-nets are known to be good at learning."
   ]
  },
  {
   "cell_type": "markdown",
   "metadata": {},
   "source": [
    "### Conclusion\n",
    "\n",
    "In this tutorial we applied two different neural nets to movie reviews to determine if they were positive or negative with promising results. Many thanks to [machinelearningmastery.com](machinelearningmastery.com) for their well-written tutorials and (working) code examples! "
   ]
  }
 ],
 "metadata": {
  "anaconda-cloud": {},
  "kernelspec": {
   "display_name": "Python [Root]",
   "language": "python",
   "name": "Python [Root]"
  },
  "language_info": {
   "codemirror_mode": {
    "name": "ipython",
    "version": 3
   },
   "file_extension": ".py",
   "mimetype": "text/x-python",
   "name": "python",
   "nbconvert_exporter": "python",
   "pygments_lexer": "ipython3",
   "version": "3.5.2"
  }
 },
 "nbformat": 4,
 "nbformat_minor": 0
}
